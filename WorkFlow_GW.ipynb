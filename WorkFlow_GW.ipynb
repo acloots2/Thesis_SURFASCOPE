{
 "metadata": {
  "language_info": {
   "codemirror_mode": {
    "name": "ipython",
    "version": 3
   },
   "file_extension": ".py",
   "mimetype": "text/x-python",
   "name": "python",
   "nbconvert_exporter": "python",
   "pygments_lexer": "ipython3",
   "version": "3.8.6-final"
  },
  "orig_nbformat": 2,
  "kernelspec": {
   "name": "python3",
   "display_name": "Python 3.8.6 64-bit",
   "metadata": {
    "interpreter": {
     "hash": "4cd7ab41f5fca4b9b44701077e38c5ffd31fe66a6cab21e0214b68d958d0e462"
    }
   }
  }
 },
 "nbformat": 4,
 "nbformat_minor": 2,
 "cells": [
  {
   "cell_type": "code",
   "execution_count": 1,
   "metadata": {},
   "outputs": [],
   "source": [
    "from __future__ import division, print_function, unicode_literals\n",
    "\n",
    "import os\n",
    "import warnings\n",
    "warnings.filterwarnings(\"ignore\") # to get rid of deprecation warnings\n",
    "\n",
    "import abipy.data as abidata\n",
    "import abipy.abilab as abilab\n",
    "abilab.enable_notebook() # This line tells AbiPy we are running inside a notebook\n",
    "from abipy.abilab import AbinitInput\n",
    "\n",
    "# This line configures matplotlib to show figures embedded in the notebook.\n",
    "# Replace `inline` with `notebook` in classic notebook\n",
    "%matplotlib inline   \n",
    "\n",
    "# Option available in jupyterlab. See https://github.com/matplotlib/jupyter-matplotlib\n",
    "#%matplotlib widget"
   ]
  },
  {
   "cell_type": "code",
   "execution_count": 2,
   "metadata": {},
   "outputs": [],
   "source": [
    "inp = AbinitInput(structure=abidata.cif_file(\"si.cif\"), \n",
    "                  pseudos=\"14si.pspnc\", pseudo_dir=abidata.pseudo_dir)"
   ]
  },
  {
   "cell_type": "code",
   "execution_count": 3,
   "metadata": {},
   "outputs": [
    {
     "output_type": "stream",
     "name": "stdout",
     "text": [
      "##############################################\n####                  STRUCTURE                  \n##############################################\n natom 2\n ntypat 1\n typat 1 1\n znucl 14\n xred\n    0.0000000000    0.0000000000    0.0000000000\n    0.2500000000    0.2500000000    0.2500000000\n acell    1.0    1.0    1.0\n rprim\n    6.3285005244    0.0000000000    3.6537614813\n    2.1095001748    5.9665675141    3.6537614813\n    0.0000000000    0.0000000000    7.3075229627\n\n\n#<JSON>\n#{\n#    \"pseudos\": [\n#        {\n#            \"basename\": \"14si.pspnc\",\n#            \"type\": \"NcAbinitPseudo\",\n#            \"symbol\": \"Si\",\n#            \"Z\": 14,\n#            \"Z_val\": 4.0,\n#            \"l_max\": 2,\n#            \"md5\": \"3916b143991b1cfa1542b130be320e5e\",\n#            \"filepath\": \"/usr/local/lib/python3.8/site-packages/abipy/data/pseudos/14si.pspnc\",\n#            \"@module\": \"pymatgen.io.abinit.pseudos\",\n#            \"@class\": \"NcAbinitPseudo\"\n#        }\n#    ]\n#}\n#</JSON>\n"
     ]
    }
   ],
   "source": [
    "print(inp)"
   ]
  },
  {
   "cell_type": "code",
   "execution_count": 4,
   "metadata": {},
   "outputs": [
    {
     "output_type": "execute_result",
     "data": {
      "text/plain": [
       "{'ecut': 8, 'paral_kgb': 0}"
      ]
     },
     "metadata": {},
     "execution_count": 4
    }
   ],
   "source": [
    "inp.set_vars(ecut=8, paral_kgb=0)"
   ]
  },
  {
   "cell_type": "code",
   "execution_count": 8,
   "metadata": {},
   "outputs": [],
   "source": [
    "struc_Al = dict(\n",
    "    ntypat=1,         \n",
    "    natom=1,\n",
    "    typat=[1],\n",
    "    znucl=13,\n",
    "    acell=3*[5.3924972503],\n",
    "    angdeg=[60, 60, 60],\n",
    "    xred=[[0.0 , 0.0 , 0.0]]\n",
    ")"
   ]
  },
  {
   "cell_type": "code",
   "execution_count": 9,
   "metadata": {},
   "outputs": [],
   "source": [
    "inp_GS = AbinitInput(structure=struc_Al, \n",
    "                  pseudos=\"Al.psp8\")"
   ]
  },
  {
   "cell_type": "code",
   "execution_count": 10,
   "metadata": {},
   "outputs": [
    {
     "output_type": "execute_result",
     "data": {
      "text/plain": [
       "<AbinitInput at 5100121392>"
      ],
      "text/html": "##############################################<br>####                  STRUCTURE                  <br>##############################################<br> <a href=\"https://docs.abinit.org/variables/basic#natom\" target=\"_blank\">natom</a> 1<br> <a href=\"https://docs.abinit.org/variables/basic#ntypat\" target=\"_blank\">ntypat</a> 1<br> <a href=\"https://docs.abinit.org/variables/basic#typat\" target=\"_blank\">typat</a> 1<br> <a href=\"https://docs.abinit.org/variables/basic#znucl\" target=\"_blank\">znucl</a> 13<br> <a href=\"https://docs.abinit.org/variables/basic#xred\" target=\"_blank\">xred</a>    0.0000000000    0.0000000000    0.0000000000<br> <a href=\"https://docs.abinit.org/variables/basic#acell\" target=\"_blank\">acell</a>    1.0    1.0    1.0<br> <a href=\"https://docs.abinit.org/variables/basic#rprim\" target=\"_blank\">rprim</a><br>    3.1133597391    0.0000000000    4.4029555675<br>   -1.5566798695    2.6962486251    4.4029555675<br>   -1.5566798695   -2.6962486251    4.4029555675"
     },
     "metadata": {},
     "execution_count": 10
    }
   ],
   "source": [
    "inp_GS"
   ]
  },
  {
   "cell_type": "code",
   "execution_count": 12,
   "metadata": {},
   "outputs": [
    {
     "output_type": "execute_result",
     "data": {
      "text/plain": [
       "<AbinitInput at 5100121392>"
      ],
      "text/html": "##############################################<br>####                SECTION: basic               <br>##############################################<br> <a href=\"https://docs.abinit.org/variables/basic#kptopt\" target=\"_blank\">kptopt</a> 1<br> <a href=\"https://docs.abinit.org/variables/basic#ngkpt\" target=\"_blank\">ngkpt</a> 8 8 8<br> <a href=\"https://docs.abinit.org/variables/basic#nshiftk\" target=\"_blank\">nshiftk</a> 1<br> <a href=\"https://docs.abinit.org/variables/basic#shiftk\" target=\"_blank\">shiftk</a>    0.0    0.0    0.0<br>##############################################<br>####                  STRUCTURE                  <br>##############################################<br> <a href=\"https://docs.abinit.org/variables/basic#natom\" target=\"_blank\">natom</a> 1<br> <a href=\"https://docs.abinit.org/variables/basic#ntypat\" target=\"_blank\">ntypat</a> 1<br> <a href=\"https://docs.abinit.org/variables/basic#typat\" target=\"_blank\">typat</a> 1<br> <a href=\"https://docs.abinit.org/variables/basic#znucl\" target=\"_blank\">znucl</a> 13<br> <a href=\"https://docs.abinit.org/variables/basic#xred\" target=\"_blank\">xred</a>    0.0000000000    0.0000000000    0.0000000000<br> <a href=\"https://docs.abinit.org/variables/basic#acell\" target=\"_blank\">acell</a>    1.0    1.0    1.0<br> <a href=\"https://docs.abinit.org/variables/basic#rprim\" target=\"_blank\">rprim</a><br>    3.1133597391    0.0000000000    4.4029555675<br>   -1.5566798695    2.6962486251    4.4029555675<br>   -1.5566798695   -2.6962486251    4.4029555675"
     },
     "metadata": {},
     "execution_count": 12
    }
   ],
   "source": [
    "inp_GS.set_vars(kptopt=1, \n",
    "             ngkpt=[8, 8, 8], \n",
    "             nshiftk=1, \n",
    "             shiftk=[0.0, 0.0, 0.0]  # 2 shifts in one list\n",
    "            )\n",
    "\n",
    "# It is possible to use strings but use them only for special cases such as:\n",
    "inp[\"istwfk\"] = \"*1\"\n",
    "inp_GS"
   ]
  },
  {
   "source": [
    "###Computation of chi0 of bulk aluminium\n",
    "\n",
    "### Ground state of Al ###\n",
    "\n",
    "###Convergence cycles\n",
    "ndtset 2\n",
    "\n",
    "###Definition of the FCC Cell\n",
    "acell 3*5.3924972503 #Scaling of the primitive vector in Bohr\n",
    "angdeg 60 60 60 #Primitive vector to construct the unit cell\n",
    "\n",
    "###One aluminium atom per unit cell in (0 0 0)\n",
    "natom 1         #One atom\n",
    "ntypat 1        #Obvisouly, only one type of atom\n",
    "znucl 13        #The atom is aluminium\n",
    "typat 1         #The atom is of type 1 which is aluminium\n",
    "                #The redondance is made explicit for clarity reason\n",
    "\n",
    "xcart 0 0 0     #the only atom is positionned in 0 0 0 Bohr\n",
    "\n",
    "###Definition of the kpt grid\n",
    "kptopt 1        #Does not use any symmetry of the problem to generate a grid in the IBZ\n",
    "                # from the variable ngkpt or kptrlatt and  shiftk and nshiftk\n",
    "ngkpt 8 8 8        #Already quite a big grid\n",
    "nshiftk 1       #4 shifts with the usual shifts for FCC lattice\n",
    "shiftk 0 0 0\n",
    "\n",
    "#Original grid\n",
    "#ngkpt 6 6 6\n",
    "#nshiftk 4\n",
    "#0.5 0.5 0.5\n",
    "# 0.5 0.0 0.0\n",
    "# 0.0 0.5 0.0\n",
    "# 0.0 0.0 0.5\n",
    "\n",
    "###Convergence criterion and plane wave basis set\n",
    "ecut 17          #small ecut [Hartree] for starting the computations\n",
    "nstep 100\n",
    "\n",
    "#Band occupation\n",
    "occopt 4\n",
    "tsmear 0.04\n",
    "\n",
    "#Cell optimisation\n",
    "\n",
    "#optcell 2\n",
    "#ionmov 2\n",
    "#ntime 15\n",
    "#ecutsm 0.5\n",
    "#dilatmx 1.05\n",
    "\n",
    "ixc 11\n",
    "tolsym 1e-08\n",
    "istwfk  *1 \n",
    "paral_kgb     1\n",
    "autoparal 1\n",
    "timopt        -3 \n",
    "############\n",
    "# Dataset 1\n",
    "############\n",
    "# SCF-GS run \n",
    "nband1  3\n",
    "tolvrs1 1.0e-10\n",
    "prtden 1\n",
    "\n",
    "############\n",
    "# Dataset 2\n",
    "############\n",
    "# Definition of parameters for the calculation of the WFK file\n",
    "nband2      300       # Number of (occ and empty) bands to be computed\n",
    "nbdbuf2      50\n",
    "iscf2       -2\n",
    "getden2     -1\n"
   ],
   "cell_type": "code",
   "metadata": {},
   "execution_count": null,
   "outputs": []
  },
  {
   "cell_type": "code",
   "execution_count": null,
   "metadata": {},
   "outputs": [],
   "source": [
    "### Ground state of Al ###\n",
    "\n",
    "###Convergence cycles\n",
    "ndtset 1\n",
    "\n",
    "###Definition of the FCC Cell\n",
    "acell 3*5.3924972503 #Scaling of the primitive vector in Bohr\n",
    "angdeg 60 60 60 #Primitive vector to construct the unit cell\n",
    "\n",
    "###One aluminium atom per unit cell in (0 0 0)\n",
    "natom 1         #One atom\n",
    "ntypat 1        #Obvisouly, only one type of atom\n",
    "znucl 13        #The atom is aluminium\n",
    "typat 1         #The atom is of type 1 which is aluminium\n",
    "                #The redondance is made explicit for clarity reason\n",
    "\n",
    "xcart 0 0 0     #the only atom is positionned in 0 0 0 Bohr\n",
    "\n",
    "###Definition of the kpt grid\n",
    "kptopt 1        #Does not use any symmetry of the problem to generate a grid in the IBZ\n",
    "                # from the variable ngkpt or kptrlatt and  shiftk and nshiftk\n",
    "ngkpt 4 4 4      #Already quite a big grid\n",
    "nshiftk 1       #4 shifts with the usual shifts for FCC lattice\n",
    "shiftk 0 0 0\n",
    "\n",
    "#Original grid\n",
    "#ngkpt 6 6 6\n",
    "#nshiftk 4\n",
    "#0.5 0.5 0.5\n",
    "# 0.5 0.0 0.0\n",
    "# 0.0 0.5 0.0\n",
    "# 0.0 0.0 0.5\n",
    "\n",
    "###Convergence criterion and plane wave basis set\n",
    "ecut 17          #small ecut [Hartree] for starting the computations\n",
    "nstep 100\n",
    "\n",
    "#Band occupation\n",
    "occopt 4\n",
    "tsmear 0.04\n",
    "\n",
    "#Cell optimisation\n",
    "\n",
    "#optcell 2\n",
    "#ionmov 2\n",
    "#ntime 15\n",
    "#ecutsm 0.5\n",
    "#dilatmx 1.05\n",
    "\n",
    "ixc 11\n",
    "tolsym 1e-08\n",
    "istwfk  *1 \n",
    "\n",
    "############\n",
    "# Dataset 1-5\n",
    "############\n",
    "# Calculation of the screening (epsilon^-1 matrix)\n",
    "optdriver  3        # Screening calculation\n",
    "getwfk 2           # Obtain WFK file from previous dataset\n",
    "nband     150       # Bands to be used in the screening calculation\n",
    "ecuteps    25      # Cut-off energy of the planewave set to represent the dielectric matrix. \n",
    "                     # It is important to adjust this parameter.\n",
    "ppmfrq    16.7 eV   # Imaginary frequency where to calculate the screening\n",
    "prtsuscep 1          # Print \\chi0\n",
    "iomode 3\n",
    "gwcalctyp 2\n",
    "nfreqim 4\n",
    "nfreqre 10\n",
    "freqremax 1.\n",
    "gwpara 1\n"
   ]
  }
 ]
}