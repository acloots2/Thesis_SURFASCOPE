{
 "metadata": {
  "language_info": {
   "codemirror_mode": {
    "name": "ipython",
    "version": 3
   },
   "file_extension": ".py",
   "mimetype": "text/x-python",
   "name": "python",
   "nbconvert_exporter": "python",
   "pygments_lexer": "ipython3",
   "version": "3.8.6-final"
  },
  "orig_nbformat": 2,
  "kernelspec": {
   "name": "python3",
   "display_name": "Python 3.8.6 64-bit",
   "metadata": {
    "interpreter": {
     "hash": "4cd7ab41f5fca4b9b44701077e38c5ffd31fe66a6cab21e0214b68d958d0e462"
    }
   }
  }
 },
 "nbformat": 4,
 "nbformat_minor": 2,
 "cells": [
  {
   "source": [
    "# Postprocessing of the data of bulk Aluminium\n",
    "\n",
    "This notebook will serve as a template to post-process the different inputs of the FT of $\\chi^0(\\boldsymbol{q}, \\boldsymbol{G}, \\boldsymbol{G'})$. Different test will be experimented to test convergence and accuracy of the results. This notebook deals in parallel with primitive and conventional cells.\n",
    "\n",
    "Visualization tools will also be available to go further in the analysis.\n",
    "\n"
   ],
   "cell_type": "markdown",
   "metadata": {}
  },
  {
   "cell_type": "code",
   "execution_count": 49,
   "metadata": {},
   "outputs": [
    {
     "output_type": "stream",
     "name": "stdout",
     "text": [
      "The autoreload extension is already loaded. To reload it, use:\n  %reload_ext autoreload\n"
     ]
    }
   ],
   "source": [
    "import numpy as np\n",
    "import math \n",
    "import cmath\n",
    "import abipy\n",
    "from abipy.electrons.scr import ScrFile\n",
    "import time\n",
    "import matplotlib.pyplot as plt\n",
    "import pointcloud as pc\n",
    "from scipy.interpolate import RegularGridInterpolator\n",
    "import plotly.graph_objects as go\n",
    "%load_ext autoreload\n",
    "%autoreload 2\n",
    "import Fourier_tool as Ft\n",
    "import XGChi0 \n",
    "import MatrixCharacteristic\n",
    "from abipy import abilab\n",
    "import abipy.data as abidata\n",
    "from abipy.abilab import Structure\n",
    "\n",
    "\n",
    "chi0_symb = '\\\\chi^0(\\\\boldsymbol{q}, \\\\boldsymbol{G}_1, \\\\boldsymbol{G}_2)'"
   ]
  },
  {
   "source": [
    "## List of Abinit files (pay attention to always specify ngkpt and nsym with the filename): \n",
    "\n",
    "- Al_Bulk_eps17_SUS.nc (generic file : nband = 150, ecuteps = 17, ngkpt = [4, 4, 4], nsym = 0)\n",
    "\n",
    "- Al_Bulk_nkpt4_nbando_DS1_SUS.nc, Al_Bulk_nkpt4_nbando_DS2_SUS.nc, Al_Bulk_nkpt4_nbando_DS3_SUS.nc, Al_Bulk_nkpt4_nbando_DS4_SUS.nc, Al_Bulk_nkpt4_nbando_DS5_SUS.nc (by increasing number of bands [150 -> 300] with ecuteps = 9, ngkpt = [4, 4, 4], nsym = 0)\n",
    "\n",
    "- Al_Bulk_nkpt4o_DS1_SUS.nc, Al_Bulk_nkpt4o_DS2_SUS.nc, Al_Bulk_nkpt4o_DS3_SUS.nc, Al_Bulk_nkpt4o_DS4_SUS.nc, Al_Bulk_nkpt4o_DS5_SUS.nc, Al_Bulk_nkpt4o_DS6_SUS.nc (by increasing ecuteps [5 - 25] with nband = 150, ngkpt = [4, 4, 4], nsym = 0)\n",
    "\n",
    "- Al_Bulko_DS1_SUS.nc (Conv cell, ngkpt = [4, 4, 4], nsym = 0)\n",
    "\n",
    "- Al_Bulk_nkpt6o_DS1_SUS.nc (ngkpt = [6, 6, 6], ecuteps < 6, nsym = 0)\n",
    "\n",
    "- Al_Bulk_nkpt8o_DS1_SUS.nc, Al_Bulk_nkpt8o_DS2_SUS.nc (ngkpt = [8, 8, 8], ecuteps = 3.6, 17, nsym = 0)\n",
    "\n",
    "- Al_Bulk_nkpt10o_DS1_SUS.nc (ngkpt = [10, 10, 10], ecuteps = 17, nsym = 0)\n",
    "\n",
    "- Al_Bulk_nsym0o_DS1_SUS.nc, Al_Bulk_nsym1o_DS1_SUS.nc (ngkpt = [4, 4, 4], ecuteps = 3.6, nsym =[0,1])"
   ],
   "cell_type": "markdown",
   "metadata": {}
  },
  {
   "source": [
    "## Choose the file you want to analyse\n",
    "\n",
    "Don't forget to specify the ngkpt and nsym variables from the data in the list above"
   ],
   "cell_type": "markdown",
   "metadata": {}
  },
  {
   "cell_type": "code",
   "execution_count": 21,
   "metadata": {},
   "outputs": [],
   "source": [
    "filename = \"Al_Bulk_nkpt4o_DS5_SUS.nc\"\n",
    "ngkpt = [4, 4, 4] #has to be entered manually from the data given above\n",
    "nsym = 0"
   ]
  },
  {
   "cell_type": "code",
   "execution_count": null,
   "metadata": {},
   "outputs": [],
   "source": [
    "## Get all the information on the structure and visualize the supercell"
   ]
  },
  {
   "cell_type": "code",
   "execution_count": 4,
   "metadata": {},
   "outputs": [
    {
     "output_type": "execute_result",
     "data": {
      "text/plain": [
       "Structure Summary\n",
       "Lattice\n",
       "    abc : 2.8535866547158504 2.8535866547158504 2.8535866547158504\n",
       " angles : 59.999999999999986 59.99999999999999 59.99999999999999\n",
       " volume : 16.430780655166938\n",
       "      A : 1.6475190232561199 0.0 2.3299437469564794\n",
       "      B : -0.8237595116280599 1.426793327357925 2.3299437469564794\n",
       "      C : -0.8237595116280599 -1.426793327357925 2.3299437469564794\n",
       "PeriodicSite: Al (0.0000, 0.0000, 0.0000) [0.0000, 0.0000, 0.0000]"
      ]
     },
     "metadata": {},
     "execution_count": 4
    }
   ],
   "source": [
    "structure=abipy.core.structure.Structure.from_file(filename)\n",
    "structure"
   ]
  },
  {
   "cell_type": "code",
   "execution_count": 7,
   "metadata": {},
   "outputs": [
    {
     "output_type": "stream",
     "name": "stdout",
     "text": [
      "Writing data to: .xsf with fmt: xsf\n\u001b[33mExecuting MacOSx open command: open -a vesta --args   /Users/acloots/Documents/GitHub/Thesis_SURFASCOPE/.xsf\u001b[0m\n"
     ]
    },
    {
     "output_type": "execute_result",
     "data": {
      "text/plain": [
       "0"
      ]
     },
     "metadata": {},
     "execution_count": 7
    }
   ],
   "source": [
    "structure.visualize(\"vesta\")"
   ]
  },
  {
   "cell_type": "code",
   "execution_count": 12,
   "metadata": {},
   "outputs": [
    {
     "output_type": "execute_result",
     "data": {
      "text/plain": [
       "    formula  natom  alpha  beta  gamma         a         b         c  \\\n",
       ".nc     Al1      1   60.0  60.0   60.0  2.853587  2.853587  2.853587   \n",
       "\n",
       "        volume abispg_num spglib_symb  spglib_num spglib_lattice_type  \n",
       ".nc  16.430781          0       Fm-3m         225               cubic  "
      ],
      "text/html": "<div>\n<style scoped>\n    .dataframe tbody tr th:only-of-type {\n        vertical-align: middle;\n    }\n\n    .dataframe tbody tr th {\n        vertical-align: top;\n    }\n\n    .dataframe thead th {\n        text-align: right;\n    }\n</style>\n<table border=\"1\" class=\"dataframe\">\n  <thead>\n    <tr style=\"text-align: right;\">\n      <th></th>\n      <th>formula</th>\n      <th>natom</th>\n      <th>alpha</th>\n      <th>beta</th>\n      <th>gamma</th>\n      <th>a</th>\n      <th>b</th>\n      <th>c</th>\n      <th>volume</th>\n      <th>abispg_num</th>\n      <th>spglib_symb</th>\n      <th>spglib_num</th>\n      <th>spglib_lattice_type</th>\n    </tr>\n  </thead>\n  <tbody>\n    <tr>\n      <th>.nc</th>\n      <td>Al1</td>\n      <td>1</td>\n      <td>60.0</td>\n      <td>60.0</td>\n      <td>60.0</td>\n      <td>2.853587</td>\n      <td>2.853587</td>\n      <td>2.853587</td>\n      <td>16.430781</td>\n      <td>0</td>\n      <td>Fm-3m</td>\n      <td>225</td>\n      <td>cubic</td>\n    </tr>\n  </tbody>\n</table>\n</div>"
     },
     "metadata": {},
     "execution_count": 12
    }
   ],
   "source": [
    "dfs = abilab.dataframes_from_structures([structure], index=[\".nc\"])\n",
    "dfs.lattice"
   ]
  },
  {
   "cell_type": "code",
   "execution_count": 20,
   "metadata": {},
   "outputs": [],
   "source": [
    "dict_struct = structure.to_abivars()\n",
    "natom = dict_struct[\"natom\"]\n",
    "xred = dict_struct[\"xred\"]"
   ]
  },
  {
   "cell_type": "code",
   "execution_count": 19,
   "metadata": {},
   "outputs": [],
   "source": [
    "lattice = structure.lattice.matrix\n",
    "A, B, C = lattice[0], lattice[1], lattice[2]"
   ]
  },
  {
   "cell_type": "code",
   "execution_count": 33,
   "metadata": {},
   "outputs": [
    {
     "output_type": "display_data",
     "data": {
      "application/vnd.plotly.v1+json": {
       "config": {
        "plotlyServerURL": "https://plot.ly"
       },
       "data": [
        {
         "marker": {
          "color": [
           1,
           1,
           1,
           1,
           1,
           1,
           1,
           1,
           1,
           1,
           1,
           1,
           1,
           1,
           1,
           1,
           1,
           1,
           1,
           1,
           1,
           1,
           1,
           1,
           1,
           1,
           1,
           1,
           1,
           1,
           1,
           1,
           1,
           1,
           1,
           1,
           1,
           1,
           1,
           1,
           1,
           1,
           1,
           1,
           1,
           1,
           1,
           1,
           1,
           1,
           1,
           1,
           1,
           1,
           1,
           1,
           1,
           1,
           1,
           1,
           1,
           1,
           1,
           1
          ],
          "colorscale": [
           [
            0,
            "rgb(253, 237, 176)"
           ],
           [
            0.09090909090909091,
            "rgb(250, 205, 145)"
           ],
           [
            0.18181818181818182,
            "rgb(246, 173, 119)"
           ],
           [
            0.2727272727272727,
            "rgb(240, 142, 98)"
           ],
           [
            0.36363636363636365,
            "rgb(231, 109, 84)"
           ],
           [
            0.45454545454545453,
            "rgb(216, 80, 83)"
           ],
           [
            0.5454545454545454,
            "rgb(195, 56, 90)"
           ],
           [
            0.6363636363636364,
            "rgb(168, 40, 96)"
           ],
           [
            0.7272727272727273,
            "rgb(138, 29, 99)"
           ],
           [
            0.8181818181818182,
            "rgb(107, 24, 93)"
           ],
           [
            0.9090909090909091,
            "rgb(76, 21, 80)"
           ],
           [
            1,
            "rgb(47, 15, 61)"
           ]
          ],
          "size": 6
         },
         "mode": "markers",
         "type": "scatter3d",
         "x": [
          0,
          -0.8237595116280599,
          -1.6475190232561199,
          -2.47127853488418,
          1.6475190232561199,
          0.8237595116280599,
          0,
          -0.82375951162806,
          3.2950380465122397,
          2.47127853488418,
          1.6475190232561199,
          0.8237595116280598,
          4.94255706976836,
          4.1187975581403,
          3.29503804651224,
          2.47127853488418,
          -0.8237595116280599,
          -1.6475190232561199,
          -2.47127853488418,
          -3.2950380465122397,
          0.8237595116280599,
          0,
          -0.8237595116280599,
          -1.64751902325612,
          2.47127853488418,
          1.64751902325612,
          0.8237595116280599,
          -1.1102230246251565e-16,
          4.1187975581403,
          3.29503804651224,
          2.4712785348841804,
          1.64751902325612,
          -1.6475190232561199,
          -2.47127853488418,
          -3.2950380465122397,
          -4.1187975581403,
          0,
          -0.8237595116280599,
          -1.6475190232561199,
          -2.47127853488418,
          1.6475190232561199,
          0.82375951162806,
          0,
          -0.82375951162806,
          3.29503804651224,
          2.4712785348841804,
          1.6475190232561203,
          0.82375951162806,
          -2.47127853488418,
          -3.2950380465122397,
          -4.1187975581403,
          -4.94255706976836,
          -0.82375951162806,
          -1.64751902325612,
          -2.47127853488418,
          -3.29503804651224,
          0.8237595116280598,
          0,
          -0.82375951162806,
          -1.64751902325612,
          2.47127853488418,
          1.64751902325612,
          0.8237595116280603,
          0
         ],
         "y": [
          0,
          1.426793327357925,
          2.85358665471585,
          4.280379982073775,
          0,
          1.426793327357925,
          2.85358665471585,
          4.280379982073775,
          0,
          1.426793327357925,
          2.85358665471585,
          4.280379982073775,
          0,
          1.426793327357925,
          2.85358665471585,
          4.280379982073775,
          -1.426793327357925,
          0,
          1.426793327357925,
          2.8535866547158504,
          -1.426793327357925,
          0,
          1.426793327357925,
          2.8535866547158504,
          -1.426793327357925,
          0,
          1.426793327357925,
          2.8535866547158504,
          -1.426793327357925,
          0,
          1.426793327357925,
          2.8535866547158504,
          -2.85358665471585,
          -1.426793327357925,
          0,
          1.4267933273579252,
          -2.85358665471585,
          -1.426793327357925,
          0,
          1.4267933273579252,
          -2.85358665471585,
          -1.426793327357925,
          0,
          1.4267933273579252,
          -2.85358665471585,
          -1.426793327357925,
          0,
          1.4267933273579252,
          -4.280379982073775,
          -2.8535866547158504,
          -1.4267933273579252,
          0,
          -4.280379982073775,
          -2.8535866547158504,
          -1.4267933273579252,
          0,
          -4.280379982073775,
          -2.8535866547158504,
          -1.4267933273579252,
          0,
          -4.280379982073775,
          -2.8535866547158504,
          -1.4267933273579252,
          0
         ],
         "z": [
          0,
          2.3299437469564794,
          4.659887493912959,
          6.989831240869439,
          2.3299437469564794,
          4.659887493912959,
          6.989831240869439,
          9.319774987825918,
          4.659887493912959,
          6.989831240869439,
          9.319774987825918,
          11.649718734782397,
          6.989831240869439,
          9.319774987825918,
          11.649718734782397,
          13.979662481738877,
          2.3299437469564794,
          4.659887493912959,
          6.989831240869439,
          9.319774987825918,
          4.659887493912959,
          6.989831240869439,
          9.319774987825918,
          11.649718734782397,
          6.989831240869439,
          9.319774987825918,
          11.649718734782397,
          13.979662481738876,
          9.319774987825918,
          11.649718734782397,
          13.979662481738876,
          16.30960622869536,
          4.659887493912959,
          6.989831240869439,
          9.319774987825918,
          11.649718734782397,
          6.989831240869439,
          9.319774987825918,
          11.649718734782397,
          13.979662481738877,
          9.319774987825918,
          11.649718734782397,
          13.979662481738877,
          16.309606228695355,
          11.649718734782397,
          13.979662481738877,
          16.309606228695355,
          18.639549975651835,
          6.989831240869439,
          9.319774987825918,
          11.649718734782397,
          13.979662481738877,
          9.319774987825918,
          11.649718734782397,
          13.979662481738877,
          16.30960622869536,
          11.649718734782397,
          13.979662481738877,
          16.30960622869536,
          18.639549975651835,
          13.979662481738877,
          16.30960622869536,
          18.639549975651835,
          20.969493722608316
         ]
        }
       ],
       "layout": {
        "template": {
         "data": {
          "bar": [
           {
            "error_x": {
             "color": "#2a3f5f"
            },
            "error_y": {
             "color": "#2a3f5f"
            },
            "marker": {
             "line": {
              "color": "#E5ECF6",
              "width": 0.5
             }
            },
            "type": "bar"
           }
          ],
          "barpolar": [
           {
            "marker": {
             "line": {
              "color": "#E5ECF6",
              "width": 0.5
             }
            },
            "type": "barpolar"
           }
          ],
          "carpet": [
           {
            "aaxis": {
             "endlinecolor": "#2a3f5f",
             "gridcolor": "white",
             "linecolor": "white",
             "minorgridcolor": "white",
             "startlinecolor": "#2a3f5f"
            },
            "baxis": {
             "endlinecolor": "#2a3f5f",
             "gridcolor": "white",
             "linecolor": "white",
             "minorgridcolor": "white",
             "startlinecolor": "#2a3f5f"
            },
            "type": "carpet"
           }
          ],
          "choropleth": [
           {
            "colorbar": {
             "outlinewidth": 0,
             "ticks": ""
            },
            "type": "choropleth"
           }
          ],
          "contour": [
           {
            "colorbar": {
             "outlinewidth": 0,
             "ticks": ""
            },
            "colorscale": [
             [
              0,
              "#0d0887"
             ],
             [
              0.1111111111111111,
              "#46039f"
             ],
             [
              0.2222222222222222,
              "#7201a8"
             ],
             [
              0.3333333333333333,
              "#9c179e"
             ],
             [
              0.4444444444444444,
              "#bd3786"
             ],
             [
              0.5555555555555556,
              "#d8576b"
             ],
             [
              0.6666666666666666,
              "#ed7953"
             ],
             [
              0.7777777777777778,
              "#fb9f3a"
             ],
             [
              0.8888888888888888,
              "#fdca26"
             ],
             [
              1,
              "#f0f921"
             ]
            ],
            "type": "contour"
           }
          ],
          "contourcarpet": [
           {
            "colorbar": {
             "outlinewidth": 0,
             "ticks": ""
            },
            "type": "contourcarpet"
           }
          ],
          "heatmap": [
           {
            "colorbar": {
             "outlinewidth": 0,
             "ticks": ""
            },
            "colorscale": [
             [
              0,
              "#0d0887"
             ],
             [
              0.1111111111111111,
              "#46039f"
             ],
             [
              0.2222222222222222,
              "#7201a8"
             ],
             [
              0.3333333333333333,
              "#9c179e"
             ],
             [
              0.4444444444444444,
              "#bd3786"
             ],
             [
              0.5555555555555556,
              "#d8576b"
             ],
             [
              0.6666666666666666,
              "#ed7953"
             ],
             [
              0.7777777777777778,
              "#fb9f3a"
             ],
             [
              0.8888888888888888,
              "#fdca26"
             ],
             [
              1,
              "#f0f921"
             ]
            ],
            "type": "heatmap"
           }
          ],
          "heatmapgl": [
           {
            "colorbar": {
             "outlinewidth": 0,
             "ticks": ""
            },
            "colorscale": [
             [
              0,
              "#0d0887"
             ],
             [
              0.1111111111111111,
              "#46039f"
             ],
             [
              0.2222222222222222,
              "#7201a8"
             ],
             [
              0.3333333333333333,
              "#9c179e"
             ],
             [
              0.4444444444444444,
              "#bd3786"
             ],
             [
              0.5555555555555556,
              "#d8576b"
             ],
             [
              0.6666666666666666,
              "#ed7953"
             ],
             [
              0.7777777777777778,
              "#fb9f3a"
             ],
             [
              0.8888888888888888,
              "#fdca26"
             ],
             [
              1,
              "#f0f921"
             ]
            ],
            "type": "heatmapgl"
           }
          ],
          "histogram": [
           {
            "marker": {
             "colorbar": {
              "outlinewidth": 0,
              "ticks": ""
             }
            },
            "type": "histogram"
           }
          ],
          "histogram2d": [
           {
            "colorbar": {
             "outlinewidth": 0,
             "ticks": ""
            },
            "colorscale": [
             [
              0,
              "#0d0887"
             ],
             [
              0.1111111111111111,
              "#46039f"
             ],
             [
              0.2222222222222222,
              "#7201a8"
             ],
             [
              0.3333333333333333,
              "#9c179e"
             ],
             [
              0.4444444444444444,
              "#bd3786"
             ],
             [
              0.5555555555555556,
              "#d8576b"
             ],
             [
              0.6666666666666666,
              "#ed7953"
             ],
             [
              0.7777777777777778,
              "#fb9f3a"
             ],
             [
              0.8888888888888888,
              "#fdca26"
             ],
             [
              1,
              "#f0f921"
             ]
            ],
            "type": "histogram2d"
           }
          ],
          "histogram2dcontour": [
           {
            "colorbar": {
             "outlinewidth": 0,
             "ticks": ""
            },
            "colorscale": [
             [
              0,
              "#0d0887"
             ],
             [
              0.1111111111111111,
              "#46039f"
             ],
             [
              0.2222222222222222,
              "#7201a8"
             ],
             [
              0.3333333333333333,
              "#9c179e"
             ],
             [
              0.4444444444444444,
              "#bd3786"
             ],
             [
              0.5555555555555556,
              "#d8576b"
             ],
             [
              0.6666666666666666,
              "#ed7953"
             ],
             [
              0.7777777777777778,
              "#fb9f3a"
             ],
             [
              0.8888888888888888,
              "#fdca26"
             ],
             [
              1,
              "#f0f921"
             ]
            ],
            "type": "histogram2dcontour"
           }
          ],
          "mesh3d": [
           {
            "colorbar": {
             "outlinewidth": 0,
             "ticks": ""
            },
            "type": "mesh3d"
           }
          ],
          "parcoords": [
           {
            "line": {
             "colorbar": {
              "outlinewidth": 0,
              "ticks": ""
             }
            },
            "type": "parcoords"
           }
          ],
          "pie": [
           {
            "automargin": true,
            "type": "pie"
           }
          ],
          "scatter": [
           {
            "marker": {
             "colorbar": {
              "outlinewidth": 0,
              "ticks": ""
             }
            },
            "type": "scatter"
           }
          ],
          "scatter3d": [
           {
            "line": {
             "colorbar": {
              "outlinewidth": 0,
              "ticks": ""
             }
            },
            "marker": {
             "colorbar": {
              "outlinewidth": 0,
              "ticks": ""
             }
            },
            "type": "scatter3d"
           }
          ],
          "scattercarpet": [
           {
            "marker": {
             "colorbar": {
              "outlinewidth": 0,
              "ticks": ""
             }
            },
            "type": "scattercarpet"
           }
          ],
          "scattergeo": [
           {
            "marker": {
             "colorbar": {
              "outlinewidth": 0,
              "ticks": ""
             }
            },
            "type": "scattergeo"
           }
          ],
          "scattergl": [
           {
            "marker": {
             "colorbar": {
              "outlinewidth": 0,
              "ticks": ""
             }
            },
            "type": "scattergl"
           }
          ],
          "scattermapbox": [
           {
            "marker": {
             "colorbar": {
              "outlinewidth": 0,
              "ticks": ""
             }
            },
            "type": "scattermapbox"
           }
          ],
          "scatterpolar": [
           {
            "marker": {
             "colorbar": {
              "outlinewidth": 0,
              "ticks": ""
             }
            },
            "type": "scatterpolar"
           }
          ],
          "scatterpolargl": [
           {
            "marker": {
             "colorbar": {
              "outlinewidth": 0,
              "ticks": ""
             }
            },
            "type": "scatterpolargl"
           }
          ],
          "scatterternary": [
           {
            "marker": {
             "colorbar": {
              "outlinewidth": 0,
              "ticks": ""
             }
            },
            "type": "scatterternary"
           }
          ],
          "surface": [
           {
            "colorbar": {
             "outlinewidth": 0,
             "ticks": ""
            },
            "colorscale": [
             [
              0,
              "#0d0887"
             ],
             [
              0.1111111111111111,
              "#46039f"
             ],
             [
              0.2222222222222222,
              "#7201a8"
             ],
             [
              0.3333333333333333,
              "#9c179e"
             ],
             [
              0.4444444444444444,
              "#bd3786"
             ],
             [
              0.5555555555555556,
              "#d8576b"
             ],
             [
              0.6666666666666666,
              "#ed7953"
             ],
             [
              0.7777777777777778,
              "#fb9f3a"
             ],
             [
              0.8888888888888888,
              "#fdca26"
             ],
             [
              1,
              "#f0f921"
             ]
            ],
            "type": "surface"
           }
          ],
          "table": [
           {
            "cells": {
             "fill": {
              "color": "#EBF0F8"
             },
             "line": {
              "color": "white"
             }
            },
            "header": {
             "fill": {
              "color": "#C8D4E3"
             },
             "line": {
              "color": "white"
             }
            },
            "type": "table"
           }
          ]
         },
         "layout": {
          "annotationdefaults": {
           "arrowcolor": "#2a3f5f",
           "arrowhead": 0,
           "arrowwidth": 1
          },
          "coloraxis": {
           "colorbar": {
            "outlinewidth": 0,
            "ticks": ""
           }
          },
          "colorscale": {
           "diverging": [
            [
             0,
             "#8e0152"
            ],
            [
             0.1,
             "#c51b7d"
            ],
            [
             0.2,
             "#de77ae"
            ],
            [
             0.3,
             "#f1b6da"
            ],
            [
             0.4,
             "#fde0ef"
            ],
            [
             0.5,
             "#f7f7f7"
            ],
            [
             0.6,
             "#e6f5d0"
            ],
            [
             0.7,
             "#b8e186"
            ],
            [
             0.8,
             "#7fbc41"
            ],
            [
             0.9,
             "#4d9221"
            ],
            [
             1,
             "#276419"
            ]
           ],
           "sequential": [
            [
             0,
             "#0d0887"
            ],
            [
             0.1111111111111111,
             "#46039f"
            ],
            [
             0.2222222222222222,
             "#7201a8"
            ],
            [
             0.3333333333333333,
             "#9c179e"
            ],
            [
             0.4444444444444444,
             "#bd3786"
            ],
            [
             0.5555555555555556,
             "#d8576b"
            ],
            [
             0.6666666666666666,
             "#ed7953"
            ],
            [
             0.7777777777777778,
             "#fb9f3a"
            ],
            [
             0.8888888888888888,
             "#fdca26"
            ],
            [
             1,
             "#f0f921"
            ]
           ],
           "sequentialminus": [
            [
             0,
             "#0d0887"
            ],
            [
             0.1111111111111111,
             "#46039f"
            ],
            [
             0.2222222222222222,
             "#7201a8"
            ],
            [
             0.3333333333333333,
             "#9c179e"
            ],
            [
             0.4444444444444444,
             "#bd3786"
            ],
            [
             0.5555555555555556,
             "#d8576b"
            ],
            [
             0.6666666666666666,
             "#ed7953"
            ],
            [
             0.7777777777777778,
             "#fb9f3a"
            ],
            [
             0.8888888888888888,
             "#fdca26"
            ],
            [
             1,
             "#f0f921"
            ]
           ]
          },
          "colorway": [
           "#636efa",
           "#EF553B",
           "#00cc96",
           "#ab63fa",
           "#FFA15A",
           "#19d3f3",
           "#FF6692",
           "#B6E880",
           "#FF97FF",
           "#FECB52"
          ],
          "font": {
           "color": "#2a3f5f"
          },
          "geo": {
           "bgcolor": "white",
           "lakecolor": "white",
           "landcolor": "#E5ECF6",
           "showlakes": true,
           "showland": true,
           "subunitcolor": "white"
          },
          "hoverlabel": {
           "align": "left"
          },
          "hovermode": "closest",
          "mapbox": {
           "style": "light"
          },
          "paper_bgcolor": "white",
          "plot_bgcolor": "#E5ECF6",
          "polar": {
           "angularaxis": {
            "gridcolor": "white",
            "linecolor": "white",
            "ticks": ""
           },
           "bgcolor": "#E5ECF6",
           "radialaxis": {
            "gridcolor": "white",
            "linecolor": "white",
            "ticks": ""
           }
          },
          "scene": {
           "xaxis": {
            "backgroundcolor": "#E5ECF6",
            "gridcolor": "white",
            "gridwidth": 2,
            "linecolor": "white",
            "showbackground": true,
            "ticks": "",
            "zerolinecolor": "white"
           },
           "yaxis": {
            "backgroundcolor": "#E5ECF6",
            "gridcolor": "white",
            "gridwidth": 2,
            "linecolor": "white",
            "showbackground": true,
            "ticks": "",
            "zerolinecolor": "white"
           },
           "zaxis": {
            "backgroundcolor": "#E5ECF6",
            "gridcolor": "white",
            "gridwidth": 2,
            "linecolor": "white",
            "showbackground": true,
            "ticks": "",
            "zerolinecolor": "white"
           }
          },
          "shapedefaults": {
           "line": {
            "color": "#2a3f5f"
           }
          },
          "ternary": {
           "aaxis": {
            "gridcolor": "white",
            "linecolor": "white",
            "ticks": ""
           },
           "baxis": {
            "gridcolor": "white",
            "linecolor": "white",
            "ticks": ""
           },
           "bgcolor": "#E5ECF6",
           "caxis": {
            "gridcolor": "white",
            "linecolor": "white",
            "ticks": ""
           }
          },
          "title": {
           "x": 0.05
          },
          "xaxis": {
           "automargin": true,
           "gridcolor": "white",
           "linecolor": "white",
           "ticks": "",
           "title": {
            "standoff": 15
           },
           "zerolinecolor": "white",
           "zerolinewidth": 2
          },
          "yaxis": {
           "automargin": true,
           "gridcolor": "white",
           "linecolor": "white",
           "ticks": "",
           "title": {
            "standoff": 15
           },
           "zerolinecolor": "white",
           "zerolinewidth": 2
          }
         }
        }
       }
      }
     },
     "metadata": {}
    }
   ],
   "source": [
    "XGChi0.Supercell_Vis(A, B, C, ngkpt, natom, xred)"
   ]
  },
  {
   "source": [
    "## Lists of the generic information of the $\\chi^0(\\boldsymbol{q}, \\boldsymbol{G}, \\boldsymbol{G'})$ given by abinit"
   ],
   "cell_type": "markdown",
   "metadata": {}
  },
  {
   "cell_type": "code",
   "execution_count": null,
   "metadata": {},
   "outputs": [],
   "source": []
  },
  {
   "cell_type": "code",
   "execution_count": 52,
   "metadata": {},
   "outputs": [
    {
     "output_type": "stream",
     "name": "stdout",
     "text": [
      "Data for filename\nNumber of frequencies =  14 ( 10 real frequencies and  4 imaginary frequencies)\nNumber of K-points =  8 \nNumber of G-vector in the G-sphere =  531 \n$\\chi^0oldsymbol{q},oldsymbol{G}_1,oldsymbol{G}_2)$ = (14, 531, 531)\n"
     ]
    }
   ],
   "source": [
    "sus_ncfile = ScrFile(filename)\n",
    "nw=sus_ncfile.reader.nw\n",
    "nwr = sus_ncfile.reader.nrew\n",
    "nwi = sus_ncfile.reader.nimw\n",
    "ng=sus_ncfile.reader.ng \n",
    "kpoints=sus_ncfile.reader.kpoints\n",
    "nkpt = len(kpoints)\n",
    "chi0=sus_ncfile.reader.read_wggmat(kpoints[0])\n",
    "chi0_mat = chi0.wggmat\n",
    "print(\"Data for filename\\nNumber of frequencies = \",nw, \"(\",nwr, \"real frequencies and \", nwi, \"imaginary frequencies)\\nNumber of K-points = \", nkpt,\"\\nNumber of G-vector in the G-sphere = \", ng,\"\\n$%s$\"%chi0_symb,'=',chi0_mat.shape)"
   ]
  },
  {
   "cell_type": "code",
   "execution_count": null,
   "metadata": {},
   "outputs": [],
   "source": [
    "chi0GG, ind_qG_to_vec, n1, n2, n3, ind_q_to_vec, ind_G_to_vec, G, nk = XGChi0.Build_Chi0GG(\"Al_Bulk_nkpt4o_DS5_SUS.nc\", \"FromSym\", omega = 0)"
   ]
  }
 ]
}