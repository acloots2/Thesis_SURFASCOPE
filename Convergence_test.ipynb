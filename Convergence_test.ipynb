{
 "cells": [
  {
   "cell_type": "markdown",
   "metadata": {},
   "source": [
    "# Files for test\n",
    "\n",
    "Al_Bulk_nkpt4o_DS1_SUS.nc, Al_Bulk_nkpt4o_DS2_SUS.nc, Al_Bulk_nkpt4o_DS3_SUS.nc, Al_Bulk_nkpt4o_DS4_SUS.nc, Al_Bulk_nkpt4o_DS5_SUS.nc, Al_Bulk_nkpt4o_DS6_SUS.nc"
   ]
  },
  {
   "cell_type": "code",
   "execution_count": 1,
   "metadata": {},
   "outputs": [],
   "source": [
    "import numpy as np\n",
    "import math \n",
    "import cmath\n",
    "import abipy\n",
    "from abipy.electrons.scr import ScrFile\n",
    "import plotly.graph_objects as go\n",
    "from abipy import abilab\n",
    "import abipy.data as abidata\n",
    "from abipy.abilab import Structure"
   ]
  },
  {
   "cell_type": "code",
   "execution_count": 25,
   "metadata": {},
   "outputs": [
    {
     "data": {
      "text/plain": [
       "0.11227517265921705"
      ]
     },
     "execution_count": 25,
     "metadata": {},
     "output_type": "execute_result"
    }
   ],
   "source": [
    "(math.factorial(50)/(math.factorial(25)*math.factorial(25)))/4**25"
   ]
  },
  {
   "cell_type": "code",
   "execution_count": 24,
   "metadata": {},
   "outputs": [
    {
     "data": {
      "text/plain": [
       "8.881784197001252e-16"
      ]
     },
     "execution_count": 24,
     "metadata": {},
     "output_type": "execute_result"
    }
   ],
   "source": [
    "1/4**25"
   ]
  },
  {
   "cell_type": "code",
   "execution_count": 23,
   "metadata": {},
   "outputs": [
    {
     "data": {
      "text/plain": [
       "0.000240325927734375"
      ]
     },
     "execution_count": 23,
     "metadata": {},
     "output_type": "execute_result"
    }
   ],
   "source": [
    "(math.factorial(10)/(math.factorial(5)*math.factorial(5)))/4**10"
   ]
  },
  {
   "cell_type": "code",
   "execution_count": 16,
   "metadata": {},
   "outputs": [
    {
     "data": {
      "text/plain": [
       "0.0009765625"
      ]
     },
     "execution_count": 16,
     "metadata": {},
     "output_type": "execute_result"
    }
   ],
   "source": [
    "1/1024"
   ]
  },
  {
   "cell_type": "code",
   "execution_count": 11,
   "metadata": {},
   "outputs": [
    {
     "ename": "SyntaxError",
     "evalue": "invalid syntax (<ipython-input-11-0c05ebf74b00>, line 17)",
     "output_type": "error",
     "traceback": [
      "\u001b[0;36m  File \u001b[0;32m\"<ipython-input-11-0c05ebf74b00>\"\u001b[0;36m, line \u001b[0;32m17\u001b[0m\n\u001b[0;31m    chi0_ref_resized1 = np.delete(chi0_ref, [ng:ng0], axis = 1)\u001b[0m\n\u001b[0m                                               ^\u001b[0m\n\u001b[0;31mSyntaxError\u001b[0m\u001b[0;31m:\u001b[0m invalid syntax\n"
     ]
    }
   ],
   "source": [
    "def Conv_test(filename_list, ref, omega = 0):\n",
    "    print(\"Please make sure that the list of file you are working with correspond to the same kpoint sampling as well as have the same primitive G vectors, else, the comparaison means nothing\")\n",
    "    sus_ncfile_ref = ScrFile(ref)\n",
    "    kpoints = sus_ncfile_ref.reader.kpoints \n",
    "    ng0 = sus_ncfile_ref.reader.ng \n",
    "    nkpt = len(kpoints)\n",
    "    chi0_ref = np.zeros((nkpt, ng0, ng0), dtype = complex)\n",
    "    for i in range(nkpt):\n",
    "        chi0 = sus_ncfile_ref.reader.read_wggmat(kpoints[i])\n",
    "        chi0_ref[i] = chi0.wggmat[omega]\n",
    "    mat_dist = np.zeros((len(filename_list)), dtype = complex)\n",
    "    count = 0\n",
    "    for filename in filename_list:\n",
    "        sus_ncfile_comp = ScrFile(filename)\n",
    "        ng = sus_ncfile_comp.reader.ng\n",
    "        chi0_comp = np.zeros((nkpt, ng, ng), dtype = complex)\n",
    "        chi0_ref_resized1 = np.delete(chi0_ref, range(ng, ng0), axis = 1)\n",
    "        chi0_ref_resized = np.delete(chi0_ref_resized1, [ng:ng0], axis = 2)\n",
    "        chi0_diff = np.zeros((nkpt, ng, ng), dtype = complex)\n",
    "        for i in range(nkpt):\n",
    "            chi0 = sus_ncfile_comp.reader.read_wggmat(kpoints[i])\n",
    "            chi0_comp[i] = chi0.wggmat[i]\n",
    "        chi0_diff = chi0_comp - chi0_ref_resized\n",
    "        norm = (np.sum(np.power(np.real(chi0GG), 2)),np.sum(np.power(np.imag(chi0GG),2)))\n",
    "        mat_dist[count] = (norm[0]/(nkpt*ng**2), norm[1]/(nkpt*ng**2)) \n",
    "        count += 1\n",
    "    return mat_dist\n"
   ]
  },
  {
   "cell_type": "code",
   "execution_count": 10,
   "metadata": {},
   "outputs": [
    {
     "name": "stdout",
     "output_type": "stream",
     "text": [
      "Please make sure that the list of file you are working with correspond to the same kpoint sampling as well as have the same primitive G vectors, else, the comparaison means nothing\n"
     ]
    },
    {
     "ename": "ValueError",
     "evalue": "operands could not be broadcast together with shapes (8,59,59) (8,259,259) ",
     "output_type": "error",
     "traceback": [
      "\u001b[0;31m---------------------------------------------------------------------------\u001b[0m",
      "\u001b[0;31mValueError\u001b[0m                                Traceback (most recent call last)",
      "\u001b[0;32m<ipython-input-10-88e0758174b9>\u001b[0m in \u001b[0;36m<module>\u001b[0;34m\u001b[0m\n\u001b[0;32m----> 1\u001b[0;31m \u001b[0mConv_test\u001b[0m\u001b[0;34m(\u001b[0m\u001b[0;34m[\u001b[0m\u001b[0;34m\"Al_Bulk_nkpt4o_DS1_SUS.nc\"\u001b[0m\u001b[0;34m,\u001b[0m \u001b[0;34m\"Al_Bulk_nkpt4o_DS2_SUS.nc\"\u001b[0m\u001b[0;34m]\u001b[0m\u001b[0;34m,\u001b[0m \u001b[0;34m\"Al_Bulk_nkpt4o_DS3_SUS.nc\"\u001b[0m\u001b[0;34m)\u001b[0m\u001b[0;34m\u001b[0m\u001b[0;34m\u001b[0m\u001b[0m\n\u001b[0m",
      "\u001b[0;32m<ipython-input-9-174224037732>\u001b[0m in \u001b[0;36mConv_test\u001b[0;34m(filename_list, ref, omega)\u001b[0m\n\u001b[1;32m     19\u001b[0m             \u001b[0mchi0\u001b[0m \u001b[0;34m=\u001b[0m \u001b[0msus_ncfile_comp\u001b[0m\u001b[0;34m.\u001b[0m\u001b[0mreader\u001b[0m\u001b[0;34m.\u001b[0m\u001b[0mread_wggmat\u001b[0m\u001b[0;34m(\u001b[0m\u001b[0mkpoints\u001b[0m\u001b[0;34m[\u001b[0m\u001b[0mi\u001b[0m\u001b[0;34m]\u001b[0m\u001b[0;34m)\u001b[0m\u001b[0;34m\u001b[0m\u001b[0;34m\u001b[0m\u001b[0m\n\u001b[1;32m     20\u001b[0m             \u001b[0mchi0_comp\u001b[0m\u001b[0;34m[\u001b[0m\u001b[0mi\u001b[0m\u001b[0;34m]\u001b[0m \u001b[0;34m=\u001b[0m \u001b[0mchi0\u001b[0m\u001b[0;34m.\u001b[0m\u001b[0mwggmat\u001b[0m\u001b[0;34m[\u001b[0m\u001b[0mi\u001b[0m\u001b[0;34m]\u001b[0m\u001b[0;34m\u001b[0m\u001b[0;34m\u001b[0m\u001b[0m\n\u001b[0;32m---> 21\u001b[0;31m         \u001b[0mchi0_diff\u001b[0m \u001b[0;34m=\u001b[0m \u001b[0mchi0_comp\u001b[0m \u001b[0;34m-\u001b[0m \u001b[0mchi0_ref\u001b[0m\u001b[0;34m\u001b[0m\u001b[0;34m\u001b[0m\u001b[0m\n\u001b[0m\u001b[1;32m     22\u001b[0m         \u001b[0mnorm\u001b[0m \u001b[0;34m=\u001b[0m \u001b[0;34m(\u001b[0m\u001b[0mnp\u001b[0m\u001b[0;34m.\u001b[0m\u001b[0msum\u001b[0m\u001b[0;34m(\u001b[0m\u001b[0mnp\u001b[0m\u001b[0;34m.\u001b[0m\u001b[0mpower\u001b[0m\u001b[0;34m(\u001b[0m\u001b[0mnp\u001b[0m\u001b[0;34m.\u001b[0m\u001b[0mreal\u001b[0m\u001b[0;34m(\u001b[0m\u001b[0mchi0GG\u001b[0m\u001b[0;34m)\u001b[0m\u001b[0;34m,\u001b[0m \u001b[0;36m2\u001b[0m\u001b[0;34m)\u001b[0m\u001b[0;34m)\u001b[0m\u001b[0;34m,\u001b[0m\u001b[0mnp\u001b[0m\u001b[0;34m.\u001b[0m\u001b[0msum\u001b[0m\u001b[0;34m(\u001b[0m\u001b[0mnp\u001b[0m\u001b[0;34m.\u001b[0m\u001b[0mpower\u001b[0m\u001b[0;34m(\u001b[0m\u001b[0mnp\u001b[0m\u001b[0;34m.\u001b[0m\u001b[0mimag\u001b[0m\u001b[0;34m(\u001b[0m\u001b[0mchi0GG\u001b[0m\u001b[0;34m)\u001b[0m\u001b[0;34m,\u001b[0m\u001b[0;36m2\u001b[0m\u001b[0;34m)\u001b[0m\u001b[0;34m)\u001b[0m\u001b[0;34m)\u001b[0m\u001b[0;34m\u001b[0m\u001b[0;34m\u001b[0m\u001b[0m\n\u001b[1;32m     23\u001b[0m         \u001b[0mmat_dist\u001b[0m\u001b[0;34m[\u001b[0m\u001b[0mcount\u001b[0m\u001b[0;34m]\u001b[0m \u001b[0;34m=\u001b[0m \u001b[0;34m(\u001b[0m\u001b[0mnorm\u001b[0m\u001b[0;34m[\u001b[0m\u001b[0;36m0\u001b[0m\u001b[0;34m]\u001b[0m\u001b[0;34m/\u001b[0m\u001b[0;34m(\u001b[0m\u001b[0mnkpt\u001b[0m\u001b[0;34m*\u001b[0m\u001b[0mng\u001b[0m\u001b[0;34m**\u001b[0m\u001b[0;36m2\u001b[0m\u001b[0;34m)\u001b[0m\u001b[0;34m,\u001b[0m \u001b[0mnorm\u001b[0m\u001b[0;34m[\u001b[0m\u001b[0;36m1\u001b[0m\u001b[0;34m]\u001b[0m\u001b[0;34m/\u001b[0m\u001b[0;34m(\u001b[0m\u001b[0mnkpt\u001b[0m\u001b[0;34m*\u001b[0m\u001b[0mng\u001b[0m\u001b[0;34m**\u001b[0m\u001b[0;36m2\u001b[0m\u001b[0;34m)\u001b[0m\u001b[0;34m)\u001b[0m\u001b[0;34m\u001b[0m\u001b[0;34m\u001b[0m\u001b[0m\n",
      "\u001b[0;31mValueError\u001b[0m: operands could not be broadcast together with shapes (8,59,59) (8,259,259) "
     ]
    }
   ],
   "source": [
    "Conv_test([\"Al_Bulk_nkpt4o_DS1_SUS.nc\", \"Al_Bulk_nkpt4o_DS2_SUS.nc\"], \"Al_Bulk_nkpt4o_DS3_SUS.nc\")"
   ]
  },
  {
   "cell_type": "code",
   "execution_count": null,
   "metadata": {},
   "outputs": [],
   "source": []
  }
 ],
 "metadata": {
  "kernelspec": {
   "display_name": "Python 3",
   "language": "python",
   "name": "python3"
  },
  "language_info": {
   "codemirror_mode": {
    "name": "ipython",
    "version": 3
   },
   "file_extension": ".py",
   "mimetype": "text/x-python",
   "name": "python",
   "nbconvert_exporter": "python",
   "pygments_lexer": "ipython3",
   "version": "3.8.6"
  }
 },
 "nbformat": 4,
 "nbformat_minor": 2
}
